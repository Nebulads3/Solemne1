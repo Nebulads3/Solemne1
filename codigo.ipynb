{
 "cells": [
  {
   "cell_type": "code",
   "execution_count": 2,
   "metadata": {},
   "outputs": [],
   "source": [
    "#Aqui subire las consultas que hice en la base de datos en BigQuery sobre test hechos a nivel nacional en EE.UU con sus respectivos positivos y negativos, hospitalizaciones, gente con ventilador, muertes, entre otros.\n",
    "\n",
    "\n",
    "from google.cloud import bigquery\n",
    "\n",
    "#Create a \"Client\" object\n",
    "client = bigquery.Client()\n",
    "\n",
    "dataset_ref = client.dataset(\"covid19_jhu_csse\", project=\"bigquery-public-data\")\n",
    "\n",
    "dataset = client.get_dataset(dataset_ref)\n"
   ]
  },
  {
   "cell_type": "code",
   "execution_count": 3,
   "metadata": {},
   "outputs": [
    {
     "name": "stdout",
     "output_type": "stream",
     "text": [
      "confirmed_cases\n",
      "deaths\n",
      "recovered_cases\n",
      "summary\n"
     ]
    }
   ],
   "source": [
    "# Aqui veemos todas las tablas disponibles de \"covid19_jhu_csse\"\n",
    "tables = list(client.list_tables(dataset))\n",
    "\n",
    "# Muestra el nombre de dichas tablas\n",
    "for table in tables:  \n",
    "    print(table.table_id)"
   ]
  }
 ],
 "metadata": {
  "kernelspec": {
   "display_name": "Python 3",
   "language": "python",
   "name": "python3"
  },
  "language_info": {
   "codemirror_mode": {
    "name": "ipython",
    "version": 3
   },
   "file_extension": ".py",
   "mimetype": "text/x-python",
   "name": "python",
   "nbconvert_exporter": "python",
   "pygments_lexer": "ipython3",
   "version": "3.9.13"
  }
 },
 "nbformat": 4,
 "nbformat_minor": 2
}
