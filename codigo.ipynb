{
 "cells": [
  {
   "cell_type": "code",
   "execution_count": 7,
   "metadata": {},
   "outputs": [
    {
     "name": "stdout",
     "output_type": "stream",
     "text": [
      "      death       date  hospitalized_currently  hospitalized_increase  \\\n",
      "0  515151.0 2021-03-07                 40199.0                    726   \n",
      "1  514309.0 2021-03-06                 41401.0                    503   \n",
      "2  512629.0 2021-03-05                 42541.0                   2781   \n",
      "3  510408.0 2021-03-04                 44172.0                   1530   \n",
      "4  508665.0 2021-03-03                 45462.0                   2172   \n",
      "\n",
      "   hospitalized_cumulative  in_icu_currently  in_icu_cumulative    negative  \\\n",
      "0                 776361.0            8134.0            45475.0  74582825.0   \n",
      "1                 775635.0            8409.0            45453.0  74450990.0   \n",
      "2                 775132.0            8634.0            45373.0  74307155.0   \n",
      "3                 772351.0            8970.0            45293.0  74035238.0   \n",
      "4                 770821.0            9359.0            45214.0  73857281.0   \n",
      "\n",
      "   death_increase    positive  total_test_results  on_ventilator_currently  \n",
      "0             842  28756489.0           363825123                   2802.0  \n",
      "1            1680  28714654.0           362655064                   2811.0  \n",
      "2            2221  28654639.0           361224072                   2889.0  \n",
      "3            1743  28585852.0           359479655                   2973.0  \n",
      "4            2449  28520365.0           357888671                   3094.0  \n"
     ]
    }
   ],
   "source": [
    "#Aqui subire las consultas que hice en la base de datos en BigQuery sobre test hechos a nivel nacional en EE.UU con sus respectivos positivos y negativos, hospitalizaciones, gente con ventilador, muertes, entre otros.\n",
    "\n",
    "import pandas as pd\n",
    "\n",
    "# Ruta de acceso de los datos obtenidos de la base de datos, en formato JSON.\n",
    "ruta_archivo = \"C:\\\\Users\\\\nicol\\\\Downloads\\\\bquxjob_67693a0_18ec56ddbfe.json\"\n",
    "\n",
    "# Aquí cargo los datos desde el archivo JSON en un DataFrame\n",
    "df = pd.read_json(ruta_archivo)\n",
    "\n",
    "# Mostrar las primeras filas del DataFrame\n",
    "print(df.head())"
   ]
  },
  {
   "cell_type": "code",
   "execution_count": 8,
   "metadata": {},
   "outputs": [],
   "source": [
    "#2222"
   ]
  }
 ],
 "metadata": {
  "kernelspec": {
   "display_name": "Python 3",
   "language": "python",
   "name": "python3"
  },
  "language_info": {
   "codemirror_mode": {
    "name": "ipython",
    "version": 3
   },
   "file_extension": ".py",
   "mimetype": "text/x-python",
   "name": "python",
   "nbconvert_exporter": "python",
   "pygments_lexer": "ipython3",
   "version": "3.9.13"
  }
 },
 "nbformat": 4,
 "nbformat_minor": 2
}
